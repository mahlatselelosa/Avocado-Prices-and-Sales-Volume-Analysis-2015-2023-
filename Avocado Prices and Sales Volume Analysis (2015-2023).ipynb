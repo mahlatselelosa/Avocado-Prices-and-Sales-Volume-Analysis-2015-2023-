{
 "cells": [
  {
   "cell_type": "markdown",
   "metadata": {},
   "source": [
    " # QCTO - Workplace Module"
   ]
  },
  {
   "cell_type": "markdown",
   "metadata": {},
   "source": [
    "<h1 style=\"color:darkgreen;\">Avocado Prices and Sales Volume Analysis (2015-2023)</h1>\n",
    "\n",
    "\n",
    "## Done By: Mahlatse Lelosa\n",
    "© ExploreAI 2024"
   ]
  },
  {
   "cell_type": "markdown",
   "metadata": {},
   "source": [
    "![](avocado.png)"
   ]
  },
  {
   "cell_type": "markdown",
   "metadata": {},
   "source": [
    "# <span style=\"color:darkgreen;\">Table of Contents</span>\n",
    "\n",
    "1. [<span style=\"color:darkgreen;\">Problem Statement</span>](#Problem-Statement)\n",
    "2. [<span style=\"color:darkgreen;\">Introduction</span>](#introduction)\n",
    "3. [<span style=\"color:darkgreen;\">Importing Packages</span>](#importing-packages)\n",
    "4. [<span style=\"color:darkgreen;\">Data Collection and Description</span>](#data-collection-and-description)\n",
    "5. [<span style=\"color:darkgreen;\">Loading Data</span>](#loading-data)\n",
    "6. [<span style=\"color:darkgreen;\">Data Cleaning and Filtering</span>](#data-cleaning-and-filtering)\n",
    "7. [<span style=\"color:darkgreen;\">Exploratory Data Analysis (EDA)</span>](#exploratory-data-analysis-eda)\n",
    "8. [<span style=\"color:darkgreen;\">Modeling</span>](#modeling)\n",
    "9. [<span style=\"color:darkgreen;\">Evaluation and Validation</span>](#evaluation-and-validation)\n",
    "10. [<span style=\"color:darkgreen;\">Final Model</span>](#final-model)\n",
    "11. [<span style=\"color:darkgreen;\">Conclusion and Future Work</span>](#conclusion-and-future-work)\n",
    "12. [<span style=\"color:darkgreen;\">References</span>](#references)\n"
   ]
  },
  {
   "cell_type": "markdown",
   "metadata": {},
   "source": [
    "<h2 id=\"Problem Statement\" style=\"color:darkgreen;\">Problem Statement</h2>"
   ]
  },
  {
   "cell_type": "markdown",
   "metadata": {},
   "source": [
    "The increasing demand for avocados has led to fluctuations in market prices, creating challenges for both consumers and producers. The ability to accurately predict avocado prices can provide valuable insights for stakeholders, enabling them to make informed purchasing and selling decisions. This project aims to develop a predictive model that accurately forecasts avocado prices based on various features."
   ]
  },
  {
   "cell_type": "markdown",
   "metadata": {},
   "source": [
    "<h2 id=\"introduction\" style=\"color:darkgreen;\">Introduction</h2>"
   ]
  },
  {
   "cell_type": "markdown",
   "metadata": {},
   "source": [
    "Avocados have gained immense popularity worldwide, contributing to their volatile market prices. Traditional methods of price prediction often rely on historical data and basic statistical techniques, which may not capture the complexities of market dynamics. With the advent of machine learning, it is possible to leverage more sophisticated algorithms to improve the accuracy of price predictions. This project utilizes various regression techniques, including Linear Regression, Gradient Boosting, and Random Forest Regressor, to develop a model that predicts avocado prices based on relevant features."
   ]
  },
  {
   "cell_type": "markdown",
   "metadata": {},
   "source": [
    "\n",
    "<h2 id=\"importing-packages\" style=\"color:darkgreen;\">Importing Packages</h2>\n"
   ]
  },
  {
   "cell_type": "markdown",
   "metadata": {},
   "source": [
    "Set up the Python environment with necessary libraries and tools."
   ]
  },
  {
   "cell_type": "code",
   "execution_count": 2,
   "metadata": {},
   "outputs": [],
   "source": [
    "import pandas as pd\n",
    "import numpy as np\n",
    "import matplotlib.pyplot as plt\n",
    "import seaborn as sns\n",
    "from sklearn.model_selection import train_test_split\n",
    "from sklearn.linear_model import LinearRegression\n",
    "from sklearn.metrics import mean_squared_error\n"
   ]
  },
  {
   "cell_type": "markdown",
   "metadata": {},
   "source": [
    "<h2 id=\"data-collection-and-description\" style=\"color:darkgreen;\">Data Collection and Description</h2>"
   ]
  },
  {
   "cell_type": "markdown",
   "metadata": {},
   "source": [
    "> Data Collection\n",
    "\n",
    " The avocado price dataset was sourced from  Kaggle.\n",
    "\n",
    " > Description\n",
    "\n",
    " The dataset includes the following features:\n",
    "\n",
    "Date: \n",
    "The date of the observation.\n",
    "\n",
    "Region:\n",
    " The geographic area where avocados were sold.\n",
    " \n",
    "Type: \n",
    "Classification of avocados (conventional vs. organic).\n",
    "\n",
    "Price: The average price of avocados per unit.\n"
   ]
  },
  {
   "cell_type": "markdown",
   "metadata": {},
   "source": [
    "<h2 id=\"loading-data\" style=\"color:darkgreen;\">Loading Data</h2>\n",
    "\n",
    "The first step in our analysis is to load the avocado dataset. This dataset will be used for the analysis of avocado prices over time and across different regions.\n"
   ]
  },
  {
   "cell_type": "code",
   "execution_count": 3,
   "metadata": {},
   "outputs": [
    {
     "name": "stdout",
     "output_type": "stream",
     "text": [
      "         Date  AveragePrice  TotalVolume    plu4046    plu4225   plu4770  \\\n",
      "0  2015-01-04          1.22     40873.28    2819.50   28287.42     49.90   \n",
      "1  2015-01-04          1.79      1373.95      57.42     153.88      0.00   \n",
      "2  2015-01-04          1.00    435021.49  364302.39   23821.16     82.15   \n",
      "3  2015-01-04          1.76      3846.69    1500.15     938.35      0.00   \n",
      "4  2015-01-04          1.08    788025.06   53987.31  552906.04  39995.03   \n",
      "\n",
      "   TotalBags  SmallBags  LargeBags  XLargeBags          type  \\\n",
      "0    9716.46    9186.93     529.53         0.0  conventional   \n",
      "1    1162.65    1162.65       0.00         0.0       organic   \n",
      "2   46815.79   16707.15   30108.64         0.0  conventional   \n",
      "3    1408.19    1071.35     336.84         0.0       organic   \n",
      "4  141136.68  137146.07    3990.61         0.0  conventional   \n",
      "\n",
      "                region  \n",
      "0               Albany  \n",
      "1               Albany  \n",
      "2              Atlanta  \n",
      "3              Atlanta  \n",
      "4  BaltimoreWashington  \n"
     ]
    }
   ],
   "source": [
    "# Loading the dataset\n",
    "df = pd.read_csv('avocado.csv')\n",
    "# Displaying the first few rows\n",
    "print(df.head())\n"
   ]
  },
  {
   "cell_type": "markdown",
   "metadata": {},
   "source": [
    "<h2 id=\"data-cleaning-and-filtering\" style=\"color:darkgreen;\">Data Cleaning and Filtering</h2>"
   ]
  },
  {
   "cell_type": "markdown",
   "metadata": {},
   "source": [
    "Inspect the Data\n",
    "Check the initial state of the data"
   ]
  },
  {
   "cell_type": "code",
   "execution_count": 4,
   "metadata": {},
   "outputs": [
    {
     "name": "stdout",
     "output_type": "stream",
     "text": [
      "<class 'pandas.core.frame.DataFrame'>\n",
      "RangeIndex: 53415 entries, 0 to 53414\n",
      "Data columns (total 12 columns):\n",
      " #   Column        Non-Null Count  Dtype  \n",
      "---  ------        --------------  -----  \n",
      " 0   Date          53415 non-null  object \n",
      " 1   AveragePrice  53415 non-null  float64\n",
      " 2   TotalVolume   53415 non-null  float64\n",
      " 3   plu4046       53415 non-null  float64\n",
      " 4   plu4225       53415 non-null  float64\n",
      " 5   plu4770       53415 non-null  float64\n",
      " 6   TotalBags     53415 non-null  float64\n",
      " 7   SmallBags     41025 non-null  float64\n",
      " 8   LargeBags     41025 non-null  float64\n",
      " 9   XLargeBags    41025 non-null  float64\n",
      " 10  type          53415 non-null  object \n",
      " 11  region        53415 non-null  object \n",
      "dtypes: float64(9), object(3)\n",
      "memory usage: 4.9+ MB\n"
     ]
    },
    {
     "data": {
      "text/html": [
       "<div>\n",
       "<style scoped>\n",
       "    .dataframe tbody tr th:only-of-type {\n",
       "        vertical-align: middle;\n",
       "    }\n",
       "\n",
       "    .dataframe tbody tr th {\n",
       "        vertical-align: top;\n",
       "    }\n",
       "\n",
       "    .dataframe thead th {\n",
       "        text-align: right;\n",
       "    }\n",
       "</style>\n",
       "<table border=\"1\" class=\"dataframe\">\n",
       "  <thead>\n",
       "    <tr style=\"text-align: right;\">\n",
       "      <th></th>\n",
       "      <th>AveragePrice</th>\n",
       "      <th>TotalVolume</th>\n",
       "      <th>plu4046</th>\n",
       "      <th>plu4225</th>\n",
       "      <th>plu4770</th>\n",
       "      <th>TotalBags</th>\n",
       "      <th>SmallBags</th>\n",
       "      <th>LargeBags</th>\n",
       "      <th>XLargeBags</th>\n",
       "    </tr>\n",
       "  </thead>\n",
       "  <tbody>\n",
       "    <tr>\n",
       "      <th>count</th>\n",
       "      <td>53415.000000</td>\n",
       "      <td>5.341500e+04</td>\n",
       "      <td>5.341500e+04</td>\n",
       "      <td>5.341500e+04</td>\n",
       "      <td>5.341500e+04</td>\n",
       "      <td>5.341500e+04</td>\n",
       "      <td>4.102500e+04</td>\n",
       "      <td>4.102500e+04</td>\n",
       "      <td>41025.000000</td>\n",
       "    </tr>\n",
       "    <tr>\n",
       "      <th>mean</th>\n",
       "      <td>1.428910</td>\n",
       "      <td>8.694474e+05</td>\n",
       "      <td>2.982707e+05</td>\n",
       "      <td>2.222170e+05</td>\n",
       "      <td>2.053195e+04</td>\n",
       "      <td>2.175083e+05</td>\n",
       "      <td>1.039222e+05</td>\n",
       "      <td>2.331316e+04</td>\n",
       "      <td>2731.811796</td>\n",
       "    </tr>\n",
       "    <tr>\n",
       "      <th>std</th>\n",
       "      <td>0.393116</td>\n",
       "      <td>3.545274e+06</td>\n",
       "      <td>1.307669e+06</td>\n",
       "      <td>9.554624e+05</td>\n",
       "      <td>1.040977e+05</td>\n",
       "      <td>8.676947e+05</td>\n",
       "      <td>5.692608e+05</td>\n",
       "      <td>1.496622e+05</td>\n",
       "      <td>22589.096454</td>\n",
       "    </tr>\n",
       "    <tr>\n",
       "      <th>min</th>\n",
       "      <td>0.440000</td>\n",
       "      <td>8.456000e+01</td>\n",
       "      <td>0.000000e+00</td>\n",
       "      <td>0.000000e+00</td>\n",
       "      <td>0.000000e+00</td>\n",
       "      <td>0.000000e+00</td>\n",
       "      <td>0.000000e+00</td>\n",
       "      <td>0.000000e+00</td>\n",
       "      <td>0.000000</td>\n",
       "    </tr>\n",
       "    <tr>\n",
       "      <th>25%</th>\n",
       "      <td>1.119091</td>\n",
       "      <td>1.626465e+04</td>\n",
       "      <td>6.947250e+02</td>\n",
       "      <td>2.120800e+03</td>\n",
       "      <td>0.000000e+00</td>\n",
       "      <td>7.846520e+03</td>\n",
       "      <td>0.000000e+00</td>\n",
       "      <td>0.000000e+00</td>\n",
       "      <td>0.000000</td>\n",
       "    </tr>\n",
       "    <tr>\n",
       "      <th>50%</th>\n",
       "      <td>1.400000</td>\n",
       "      <td>1.203525e+05</td>\n",
       "      <td>1.458058e+04</td>\n",
       "      <td>1.751663e+04</td>\n",
       "      <td>9.005000e+01</td>\n",
       "      <td>3.695310e+04</td>\n",
       "      <td>6.945800e+02</td>\n",
       "      <td>0.000000e+00</td>\n",
       "      <td>0.000000</td>\n",
       "    </tr>\n",
       "    <tr>\n",
       "      <th>75%</th>\n",
       "      <td>1.690000</td>\n",
       "      <td>4.542380e+05</td>\n",
       "      <td>1.287924e+05</td>\n",
       "      <td>9.351560e+04</td>\n",
       "      <td>3.599735e+03</td>\n",
       "      <td>1.110146e+05</td>\n",
       "      <td>3.795298e+04</td>\n",
       "      <td>2.814920e+03</td>\n",
       "      <td>0.000000</td>\n",
       "    </tr>\n",
       "    <tr>\n",
       "      <th>max</th>\n",
       "      <td>3.440830</td>\n",
       "      <td>6.103446e+07</td>\n",
       "      <td>2.544720e+07</td>\n",
       "      <td>2.047057e+07</td>\n",
       "      <td>2.860025e+06</td>\n",
       "      <td>1.629830e+07</td>\n",
       "      <td>1.256716e+07</td>\n",
       "      <td>4.324231e+06</td>\n",
       "      <td>679586.800000</td>\n",
       "    </tr>\n",
       "  </tbody>\n",
       "</table>\n",
       "</div>"
      ],
      "text/plain": [
       "       AveragePrice   TotalVolume       plu4046       plu4225       plu4770  \\\n",
       "count  53415.000000  5.341500e+04  5.341500e+04  5.341500e+04  5.341500e+04   \n",
       "mean       1.428910  8.694474e+05  2.982707e+05  2.222170e+05  2.053195e+04   \n",
       "std        0.393116  3.545274e+06  1.307669e+06  9.554624e+05  1.040977e+05   \n",
       "min        0.440000  8.456000e+01  0.000000e+00  0.000000e+00  0.000000e+00   \n",
       "25%        1.119091  1.626465e+04  6.947250e+02  2.120800e+03  0.000000e+00   \n",
       "50%        1.400000  1.203525e+05  1.458058e+04  1.751663e+04  9.005000e+01   \n",
       "75%        1.690000  4.542380e+05  1.287924e+05  9.351560e+04  3.599735e+03   \n",
       "max        3.440830  6.103446e+07  2.544720e+07  2.047057e+07  2.860025e+06   \n",
       "\n",
       "          TotalBags     SmallBags     LargeBags     XLargeBags  \n",
       "count  5.341500e+04  4.102500e+04  4.102500e+04   41025.000000  \n",
       "mean   2.175083e+05  1.039222e+05  2.331316e+04    2731.811796  \n",
       "std    8.676947e+05  5.692608e+05  1.496622e+05   22589.096454  \n",
       "min    0.000000e+00  0.000000e+00  0.000000e+00       0.000000  \n",
       "25%    7.846520e+03  0.000000e+00  0.000000e+00       0.000000  \n",
       "50%    3.695310e+04  6.945800e+02  0.000000e+00       0.000000  \n",
       "75%    1.110146e+05  3.795298e+04  2.814920e+03       0.000000  \n",
       "max    1.629830e+07  1.256716e+07  4.324231e+06  679586.800000  "
      ]
     },
     "execution_count": 4,
     "metadata": {},
     "output_type": "execute_result"
    }
   ],
   "source": [
    "# Check the data types and non-null values\n",
    "df.info()\n",
    "\n",
    "# Check for missing values\n",
    "df.isnull().sum()\n",
    "\n",
    "# Summary statistics\n",
    "df.describe()\n"
   ]
  },
  {
   "cell_type": "markdown",
   "metadata": {},
   "source": [
    " #### Handle Missing Values\n",
    "Decide how to handle missing values: removal, imputation"
   ]
  },
  {
   "cell_type": "code",
   "execution_count": 5,
   "metadata": {},
   "outputs": [
    {
     "name": "stdout",
     "output_type": "stream",
     "text": [
      "Date                0\n",
      "AveragePrice        0\n",
      "TotalVolume         0\n",
      "plu4046             0\n",
      "plu4225             0\n",
      "plu4770             0\n",
      "TotalBags           0\n",
      "SmallBags       12390\n",
      "LargeBags       12390\n",
      "XLargeBags      12390\n",
      "type                0\n",
      "region              0\n",
      "dtype: int64\n"
     ]
    }
   ],
   "source": [
    "print(df.isnull().sum())\n"
   ]
  },
  {
   "cell_type": "markdown",
   "metadata": {},
   "source": [
    "I have missing values in the columns SmallBags, LargeBags, and XLargeBags, with 12,390 missing values in each. Since there are no missing values in the other columns, I will handle these missing values without dropping rows."
   ]
  },
  {
   "cell_type": "markdown",
   "metadata": {},
   "source": [
    "Handling Missing Values:\n",
    "Fill with a Default Value: I will fill the missing values with 0, assuming that missing values mean no bags were sold for that category"
   ]
  },
  {
   "cell_type": "code",
   "execution_count": 6,
   "metadata": {},
   "outputs": [
    {
     "name": "stdout",
     "output_type": "stream",
     "text": [
      "Date            0\n",
      "AveragePrice    0\n",
      "TotalVolume     0\n",
      "plu4046         0\n",
      "plu4225         0\n",
      "plu4770         0\n",
      "TotalBags       0\n",
      "SmallBags       0\n",
      "LargeBags       0\n",
      "XLargeBags      0\n",
      "type            0\n",
      "region          0\n",
      "dtype: int64\n"
     ]
    }
   ],
   "source": [
    "# Filling missing values in bag columns with 0\n",
    "df_cleaned = df.copy()  # Create a cleaned copy of the original dataframe\n",
    "df_cleaned['SmallBags'].fillna(0, inplace=True)\n",
    "df_cleaned['LargeBags'].fillna(0, inplace=True)\n",
    "df_cleaned['XLargeBags'].fillna(0, inplace=True)\n",
    "\n",
    "# Verify missing values are handled\n",
    "print(df_cleaned.isnull().sum())\n",
    "\n"
   ]
  },
  {
   "cell_type": "markdown",
   "metadata": {},
   "source": [
    "####  Remove Duplicates\n",
    "\n",
    "We also remove any duplicate rows to avoid bias:"
   ]
  },
  {
   "cell_type": "code",
   "execution_count": 7,
   "metadata": {},
   "outputs": [
    {
     "name": "stdout",
     "output_type": "stream",
     "text": [
      "Number of duplicate rows: 0\n",
      "(53415, 12)\n"
     ]
    }
   ],
   "source": [
    "# Remove duplicate rows\n",
    "duplicates = df_cleaned.duplicated().sum()\n",
    "print(f\"Number of duplicate rows: {duplicates}\")\n",
    "\n",
    "df_cleaned = df_cleaned.drop_duplicates()\n",
    "\n",
    "# Check the shape of the data after removing duplicates\n",
    "print(df_cleaned.shape)\n",
    "\n"
   ]
  },
  {
   "cell_type": "markdown",
   "metadata": {},
   "source": [
    "#### Correct Data Types\n",
    "\n",
    " Convert columns to their appropriate data types. For example, the Date column should be in datetime format, and AveragePrice should be a float"
   ]
  },
  {
   "cell_type": "code",
   "execution_count": 8,
   "metadata": {},
   "outputs": [
    {
     "name": "stdout",
     "output_type": "stream",
     "text": [
      "<class 'pandas.core.frame.DataFrame'>\n",
      "RangeIndex: 53415 entries, 0 to 53414\n",
      "Data columns (total 12 columns):\n",
      " #   Column        Non-Null Count  Dtype         \n",
      "---  ------        --------------  -----         \n",
      " 0   Date          53415 non-null  datetime64[ns]\n",
      " 1   AveragePrice  53415 non-null  float64       \n",
      " 2   TotalVolume   53415 non-null  float64       \n",
      " 3   plu4046       53415 non-null  float64       \n",
      " 4   plu4225       53415 non-null  float64       \n",
      " 5   plu4770       53415 non-null  float64       \n",
      " 6   TotalBags     53415 non-null  float64       \n",
      " 7   SmallBags     53415 non-null  float64       \n",
      " 8   LargeBags     53415 non-null  float64       \n",
      " 9   XLargeBags    53415 non-null  float64       \n",
      " 10  type          53415 non-null  object        \n",
      " 11  region        53415 non-null  object        \n",
      "dtypes: datetime64[ns](1), float64(9), object(2)\n",
      "memory usage: 4.9+ MB\n"
     ]
    }
   ],
   "source": [
    "# Convert 'Date' to datetime format\n",
    "df_cleaned['Date'] = pd.to_datetime(df_cleaned['Date'])\n",
    "\n",
    "# Convert 'AveragePrice' to float\n",
    "df_cleaned['AveragePrice'] = df_cleaned['AveragePrice'].astype(float)\n",
    "\n",
    "# Verify the changes\n",
    "df_cleaned.info()\n"
   ]
  },
  {
   "cell_type": "markdown",
   "metadata": {},
   "source": [
    "#### Filter Outliers\n",
    "\n",
    "Outliers can distort statistical analyses and model performance. A common way to detect outliers is using the Z-score method"
   ]
  },
  {
   "cell_type": "code",
   "execution_count": 9,
   "metadata": {},
   "outputs": [
    {
     "name": "stdout",
     "output_type": "stream",
     "text": [
      "(51731, 12)\n"
     ]
    }
   ],
   "source": [
    "from scipy import stats\n",
    "\n",
    "# Calculate Z-scores for numerical columns\n",
    "z_scores = np.abs(stats.zscore(df_cleaned.select_dtypes(include=[np.number])))\n",
    "\n",
    "# Keep only rows where Z-score is less than 3 (commonly used threshold)\n",
    "df_cleaned = df_cleaned[(z_scores < 3).all(axis=1)]\n",
    "\n",
    "# Check the shape of the data after filtering outliers\n",
    "print(df_cleaned.shape)\n",
    "\n"
   ]
  },
  {
   "cell_type": "markdown",
   "metadata": {},
   "source": [
    "#### Feature Engineering\n",
    "\n",
    "Create new features to enhance your analysis. For example, extracting Year and Month from the Date column can help in time-series analysis.\n",
    "\n"
   ]
  },
  {
   "cell_type": "code",
   "execution_count": 10,
   "metadata": {},
   "outputs": [
    {
     "name": "stdout",
     "output_type": "stream",
     "text": [
      "        Date  Year  Month\n",
      "0 2015-01-04  2015      1\n",
      "1 2015-01-04  2015      1\n",
      "2 2015-01-04  2015      1\n",
      "3 2015-01-04  2015      1\n",
      "4 2015-01-04  2015      1\n"
     ]
    }
   ],
   "source": [
    "# Create new features for Year and Month\n",
    "df_cleaned['Year'] = df_cleaned['Date'].dt.year\n",
    "df_cleaned['Month'] = df_cleaned['Date'].dt.month\n",
    "\n",
    "# Verify the new features\n",
    "print(df_cleaned[['Date', 'Year', 'Month']].head())\n"
   ]
  },
  {
   "cell_type": "markdown",
   "metadata": {},
   "source": [
    "#### Data Normalization/Standardization\n",
    "\n",
    "We'll standardize the 'AveragePrice' and 'TotalVolume' columns:\n",
    "\n",
    "\n"
   ]
  },
  {
   "cell_type": "code",
   "execution_count": 11,
   "metadata": {},
   "outputs": [
    {
     "name": "stdout",
     "output_type": "stream",
     "text": [
      "   AveragePrice  TotalVolume\n",
      "0     -0.551432    -0.414980\n",
      "1      0.936108    -0.452494\n",
      "2     -1.125571    -0.040647\n",
      "3      0.857817    -0.450145\n",
      "4     -0.916793     0.294609\n"
     ]
    }
   ],
   "source": [
    "from sklearn.preprocessing import StandardScaler\n",
    "\n",
    "# Standardize 'AveragePrice' and 'TotalVolume' columns\n",
    "scaler = StandardScaler()\n",
    "df_cleaned[['AveragePrice', 'TotalVolume']] = scaler.fit_transform(df_cleaned[['AveragePrice', 'TotalVolume']])\n",
    "\n",
    "# Verify the scaled values\n",
    "print(df_cleaned[['AveragePrice', 'TotalVolume']].head())\n"
   ]
  },
  {
   "cell_type": "markdown",
   "metadata": {},
   "source": [
    "This shows that:\n",
    "\n",
    "Values of AveragePrice and TotalVolume are standardized.\n",
    "Negative values indicate that the original data points were below the mean.\n",
    "Positive values indicate the original data points were above the mean"
   ]
  },
  {
   "cell_type": "code",
   "execution_count": 12,
   "metadata": {},
   "outputs": [
    {
     "name": "stdout",
     "output_type": "stream",
     "text": [
      "        Date  AveragePrice  TotalVolume    plu4046    plu4225   plu4770  \\\n",
      "0 2015-01-04     -0.551432    -0.414980    2819.50   28287.42     49.90   \n",
      "1 2015-01-04      0.936108    -0.452494      57.42     153.88      0.00   \n",
      "2 2015-01-04     -1.125571    -0.040647  364302.39   23821.16     82.15   \n",
      "3 2015-01-04      0.857817    -0.450145    1500.15     938.35      0.00   \n",
      "4 2015-01-04     -0.916793     0.294609   53987.31  552906.04  39995.03   \n",
      "\n",
      "   TotalBags  SmallBags  LargeBags  XLargeBags          type  \\\n",
      "0    9716.46    9186.93     529.53         0.0  conventional   \n",
      "1    1162.65    1162.65       0.00         0.0       organic   \n",
      "2   46815.79   16707.15   30108.64         0.0  conventional   \n",
      "3    1408.19    1071.35     336.84         0.0       organic   \n",
      "4  141136.68  137146.07    3990.61         0.0  conventional   \n",
      "\n",
      "                region  Year  Month  \n",
      "0               Albany  2015      1  \n",
      "1               Albany  2015      1  \n",
      "2              Atlanta  2015      1  \n",
      "3              Atlanta  2015      1  \n",
      "4  BaltimoreWashington  2015      1  \n",
      "(51731, 14)\n"
     ]
    }
   ],
   "source": [
    "# Display the final cleaned dataset\n",
    "print(df_cleaned.head())\n",
    "\n",
    "# Check the shape of the cleaned dataset\n",
    "print(df_cleaned.shape)\n"
   ]
  },
  {
   "cell_type": "markdown",
   "metadata": {},
   "source": [
    "Results:\n",
    "\n",
    "A cleaned dataset with 51,731 rows and 14 columns.\n",
    "\n",
    "The AveragePrice and TotalVolume columns are standardized, as seen in the transformed values.\n",
    "\n",
    "The rest of the columns (plu4046, plu4225, plu4770, TotalBags, etc.) retain their original values."
   ]
  },
  {
   "cell_type": "markdown",
   "metadata": {},
   "source": [
    "<h2 id=\"exploratory-data-analysis-eda\" style=\"color:darkgreen;\">Exploratory Data Analysis (EDA)</h2>\n"
   ]
  },
  {
   "cell_type": "markdown",
   "metadata": {},
   "source": [
    "<h2 id=\"modeling\" style=\"color:darkgreen;\">Modeling</h2>\n",
    "\n"
   ]
  },
  {
   "cell_type": "code",
   "execution_count": null,
   "metadata": {},
   "outputs": [],
   "source": []
  },
  {
   "cell_type": "markdown",
   "metadata": {},
   "source": [
    "<h2 id=\"evaluation-and-validation\" style=\"color:darkgreen;\">Evaluation and Validation</h2>\n"
   ]
  },
  {
   "cell_type": "code",
   "execution_count": null,
   "metadata": {},
   "outputs": [],
   "source": []
  },
  {
   "cell_type": "markdown",
   "metadata": {},
   "source": [
    "<h2 id=\"final-model\" style=\"color:darkgreen;\">Final Model</h2>\n"
   ]
  },
  {
   "cell_type": "code",
   "execution_count": null,
   "metadata": {},
   "outputs": [],
   "source": []
  },
  {
   "cell_type": "markdown",
   "metadata": {},
   "source": [
    "<h2 id=\"conclusion-and-future-work\" style=\"color:darkgreen;\">Conclusion and Future Work</h2>"
   ]
  },
  {
   "cell_type": "markdown",
   "metadata": {},
   "source": []
  },
  {
   "cell_type": "markdown",
   "metadata": {},
   "source": [
    "<h2 id=\"references\" style=\"color:darkgreen;\">References</h2>"
   ]
  }
 ],
 "metadata": {
  "kernelspec": {
   "display_name": "kaelo",
   "language": "python",
   "name": "python3"
  },
  "language_info": {
   "codemirror_mode": {
    "name": "ipython",
    "version": 3
   },
   "file_extension": ".py",
   "mimetype": "text/x-python",
   "name": "python",
   "nbconvert_exporter": "python",
   "pygments_lexer": "ipython3",
   "version": "3.11.9"
  }
 },
 "nbformat": 4,
 "nbformat_minor": 2
}
