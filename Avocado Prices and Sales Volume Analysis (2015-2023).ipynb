{
 "cells": [
  {
   "cell_type": "markdown",
   "metadata": {},
   "source": [
    " # QCTO - Workplace Module"
   ]
  },
  {
   "cell_type": "markdown",
   "metadata": {},
   "source": [
    "<h1 style=\"color:darkgreen;\">Avocado Prices and Sales Volume Analysis (2015-2023)</h1>\n",
    "\n",
    "\n",
    "## Done By: Mahlatse Lelosa\n",
    "© ExploreAI 2024"
   ]
  },
  {
   "cell_type": "markdown",
   "metadata": {},
   "source": [
    "![Avocado](avocado.png)"
   ]
  },
  {
   "cell_type": "markdown",
   "metadata": {},
   "source": [
    "# <span style=\"color:darkgreen;\">Table of Contents</span>\n",
    "\n",
    "1. [<span style=\"color:darkgreen;\">Introduction</span>](#introduction)\n",
    "2. [<span style=\"color:darkgreen;\">Importing Packages</span>](#importing-packages)\n",
    "3. [<span style=\"color:darkgreen;\">Data Collection and Description</span>](#data-collection-and-description)\n",
    "4. [<span style=\"color:darkgreen;\">Loading Data</span>](#loading-data)\n",
    "5. [<span style=\"color:darkgreen;\">Data Cleaning and Filtering</span>](#data-cleaning-and-filtering)\n",
    "6. [<span style=\"color:darkgreen;\">Exploratory Data Analysis (EDA)</span>](#exploratory-data-analysis-eda)\n",
    "7. [<span style=\"color:darkgreen;\">Modeling</span>](#modeling)\n",
    "8. [<span style=\"color:darkgreen;\">Evaluation and Validation</span>](#evaluation-and-validation)\n",
    "9. [<span style=\"color:darkgreen;\">Final Model</span>](#final-model)\n",
    "10. [<span style=\"color:darkgreen;\">Conclusion and Future Work</span>](#conclusion-and-future-work)\n",
    "11. [<span style=\"color:darkgreen;\">References</span>](#references)\n"
   ]
  },
  {
   "cell_type": "markdown",
   "metadata": {},
   "source": [
    "<h2 id=\"introduction\" style=\"color:darkgreen;\">Introduction</h2>"
   ]
  },
  {
   "cell_type": "markdown",
   "metadata": {},
   "source": []
  },
  {
   "cell_type": "markdown",
   "metadata": {},
   "source": [
    "\n",
    "<h2 id=\"importing-packages\" style=\"color:darkgreen;\">Importing Packages</h2>\n"
   ]
  },
  {
   "cell_type": "code",
   "execution_count": null,
   "metadata": {},
   "outputs": [],
   "source": []
  },
  {
   "cell_type": "markdown",
   "metadata": {},
   "source": [
    "<h2 id=\"data-collection-and-description\" style=\"color:darkgreen;\">Data Collection and Description</h2>"
   ]
  },
  {
   "cell_type": "code",
   "execution_count": null,
   "metadata": {},
   "outputs": [],
   "source": []
  },
  {
   "cell_type": "markdown",
   "metadata": {},
   "source": [
    "<h2 id=\"loading-data\" style=\"color:darkgreen;\">Loading Data</h2>"
   ]
  },
  {
   "cell_type": "code",
   "execution_count": null,
   "metadata": {},
   "outputs": [],
   "source": []
  },
  {
   "cell_type": "markdown",
   "metadata": {},
   "source": [
    "<h2 id=\"data-cleaning-and-filtering\" style=\"color:darkgreen;\">Data Cleaning and Filtering</h2>"
   ]
  },
  {
   "cell_type": "code",
   "execution_count": null,
   "metadata": {},
   "outputs": [],
   "source": []
  },
  {
   "cell_type": "markdown",
   "metadata": {},
   "source": [
    "<h2 id=\"exploratory-data-analysis-eda\" style=\"color:darkgreen;\">Exploratory Data Analysis (EDA)</h2>\n"
   ]
  },
  {
   "cell_type": "code",
   "execution_count": null,
   "metadata": {},
   "outputs": [],
   "source": []
  },
  {
   "cell_type": "markdown",
   "metadata": {},
   "source": [
    "<h2 id=\"modeling\" style=\"color:darkgreen;\">Modeling</h2>\n",
    "\n"
   ]
  },
  {
   "cell_type": "code",
   "execution_count": null,
   "metadata": {},
   "outputs": [],
   "source": []
  },
  {
   "cell_type": "markdown",
   "metadata": {},
   "source": [
    "<h2 id=\"evaluation-and-validation\" style=\"color:darkgreen;\">Evaluation and Validation</h2>\n"
   ]
  },
  {
   "cell_type": "code",
   "execution_count": null,
   "metadata": {},
   "outputs": [],
   "source": []
  },
  {
   "cell_type": "markdown",
   "metadata": {},
   "source": [
    "<h2 id=\"final-model\" style=\"color:darkgreen;\">Final Model</h2>\n"
   ]
  },
  {
   "cell_type": "code",
   "execution_count": null,
   "metadata": {},
   "outputs": [],
   "source": []
  },
  {
   "cell_type": "markdown",
   "metadata": {},
   "source": [
    "<h2 id=\"conclusion-and-future-work\" style=\"color:darkgreen;\">Conclusion and Future Work</h2>"
   ]
  },
  {
   "cell_type": "markdown",
   "metadata": {},
   "source": []
  },
  {
   "cell_type": "markdown",
   "metadata": {},
   "source": [
    "<h2 id=\"references\" style=\"color:darkgreen;\">References</h2>"
   ]
  }
 ],
 "metadata": {
  "language_info": {
   "name": "python"
  }
 },
 "nbformat": 4,
 "nbformat_minor": 2
}
